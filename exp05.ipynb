{
 "cells": [
  {
   "cell_type": "markdown",
   "id": "33a70bdd",
   "metadata": {},
   "source": [
    "- Use word embeddings to create meaningful sentences for creative tasks. Retrieve similar words\n",
    "for a seed word. \n",
    "- Create a sentence or story using these words as a starting point. \n",
    "- Write a program that: Takes a seed word. Generates similar words. Constructs a short paragraph using\n",
    "these words.\n"
   ]
  },
  {
   "cell_type": "code",
   "execution_count": 4,
   "id": "8f6fccaa",
   "metadata": {},
   "outputs": [],
   "source": [
    "from sentence_transformers import SentenceTransformer, util"
   ]
  },
  {
   "cell_type": "code",
   "execution_count": 5,
   "id": "a4d27b25",
   "metadata": {},
   "outputs": [
    {
     "data": {
      "application/vnd.jupyter.widget-view+json": {
       "model_id": "b9a54948bc5d4172abe695fbdaae66f7",
       "version_major": 2,
       "version_minor": 0
      },
      "text/plain": [
       "README.md:   0%|          | 0.00/10.5k [00:00<?, ?B/s]"
      ]
     },
     "metadata": {},
     "output_type": "display_data"
    }
   ],
   "source": [
    "model = SentenceTransformer('all-MiniLM-L6-v2')\n"
   ]
  },
  {
   "cell_type": "code",
   "execution_count": 6,
   "id": "19108bd0",
   "metadata": {},
   "outputs": [],
   "source": [
    "corpus = [ \"Bonds are considered a safer investment option compared to stocks.\",\n",
    " \"Banks are adopting blockchain technology to improve the efficiency of financial transactions.\",\n",
    " \"The economic impact of the pandemic has been severe, but recovery is underway.\",\n",
    " \"Inflation rates have been rising steadily, leading to higher costs for consumers.\",\n",
    " \"Corporate governance and transparency are crucial for investor confidence.\",\n",
    " \"The real estate market is experiencing a boom as demand outstrips supply in many areas.\",\n",
    " \"Investors should be aware of market volatility and adjust their strategies accordingly.\",\n",
    " \"Diversification is a key principle in reducing risk in investment portfolios.\",\n",
    " \"Hedge funds use complex strategies to generate high returns, often with higher risks.\",\n",
    " \"Stock buybacks are often seen as a sign of confidence by corporate executives.\",\n",
    " \"The stock market saw significant gains today, driven by strong earnings reports.\",\n",
    " \"Investing in diversified portfolios helps mitigate risk and maximize returns.\",\n",
    " \"The Federal Reserve's decision to raise interest rates could impact market liquidity.\",\n",
    " \"Cryptocurrency has become an increasingly popular asset class among investors.\",\n",
    " \"Financial analysts predict that the global economy will face challenges in the coming years.\",\n",
    "]\n"
   ]
  },
  {
   "cell_type": "code",
   "execution_count": 7,
   "id": "bba21eed",
   "metadata": {},
   "outputs": [
    {
     "data": {
      "text/plain": [
       "tensor([[-0.0389,  0.0259, -0.0926,  ..., -0.1365,  0.0572,  0.1079],\n",
       "        [ 0.0204,  0.0505, -0.0575,  ..., -0.0520,  0.1336, -0.0396],\n",
       "        [ 0.0143, -0.0071,  0.0749,  ..., -0.1215, -0.0493,  0.0415],\n",
       "        ...,\n",
       "        [-0.0168, -0.0174, -0.0506,  ..., -0.0439,  0.0390, -0.0251],\n",
       "        [ 0.0616, -0.0464, -0.0613,  ..., -0.0873, -0.0155,  0.0578],\n",
       "        [-0.0685, -0.0168, -0.0169,  ..., -0.1386,  0.0292,  0.0281]])"
      ]
     },
     "execution_count": 7,
     "metadata": {},
     "output_type": "execute_result"
    }
   ],
   "source": [
    "corpus_embeddings = model.encode(corpus, convert_to_tensor=True)\n",
    "corpus_embeddings"
   ]
  },
  {
   "cell_type": "code",
   "execution_count": null,
   "id": "23c23f3b",
   "metadata": {},
   "outputs": [],
   "source": [
    "def gen_paragrah(seed_word, corpus, corpus_embeddings, model, top_n=5):\n",
    "    seed_sentence = f\"tell me more about {seed_word}\"\n",
    "    seed_embedding = model.encode(seed_sentence, convert_to_tensor=True)\n",
    "\n",
    "    similarities = util.pytorch_cos_sim(seed_embedding, corpus_embeddings)[0]\n",
    "    top_results = similarities.topk(top_n)\n",
    "    print(top_results)\n",
    "\n",
    "    story = f\"the topic of {seed_word} is crucial in the industry\"\n",
    "    \n",
    "\n",
    "    for idx in top_results.indices: # we are fetching similar sentence from corpus\n",
    "        similar_sentence = corpus[idx]\n",
    "        story += f\"{similar_sentence}\"\n",
    "    story += f\"these concepts highlight the importance of understanding of {seed_word}\"\n",
    "\n",
    "    return story\n",
    "\n",
    "\n",
    "seed_word = \"bonds\"\n",
    "story = gen_paragrah(seed_word, corpus, corpus_embeddings, model, top_n=5)"
   ]
  },
  {
   "cell_type": "code",
   "execution_count": null,
   "id": "fac57d05",
   "metadata": {},
   "outputs": [],
   "source": []
  }
 ],
 "metadata": {
  "kernelspec": {
   "display_name": "Python 3",
   "language": "python",
   "name": "python3"
  },
  "language_info": {
   "codemirror_mode": {
    "name": "ipython",
    "version": 3
   },
   "file_extension": ".py",
   "mimetype": "text/x-python",
   "name": "python",
   "nbconvert_exporter": "python",
   "pygments_lexer": "ipython3",
   "version": "3.12.6"
  }
 },
 "nbformat": 4,
 "nbformat_minor": 5
}
