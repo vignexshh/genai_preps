{
 "cells": [
  {
   "cell_type": "markdown",
   "id": "7ed0b126",
   "metadata": {},
   "source": [
    "Explore pre-trained word vectors. Explore word relationships using vector arithmetic.\n",
    "Perform arithmetic operations and analyze results."
   ]
  },
  {
   "cell_type": "code",
   "execution_count": null,
   "id": "f604bb92",
   "metadata": {},
   "outputs": [],
   "source": [
    "import kagglehub\n",
    "path = kagglehub.dataset_download('rtatman/glove-global-vectors-for-word-representation')\n",
    "print('data downloaded in  :', path)"
   ]
  }
 ],
 "metadata": {
  "kernelspec": {
   "display_name": "Python 3",
   "language": "python",
   "name": "python3"
  },
  "language_info": {
   "codemirror_mode": {
    "name": "ipython",
    "version": 3
   },
   "file_extension": ".py",
   "mimetype": "text/x-python",
   "name": "python",
   "nbconvert_exporter": "python",
   "pygments_lexer": "ipython3",
   "version": "3.12.6"
  }
 },
 "nbformat": 4,
 "nbformat_minor": 5
}
